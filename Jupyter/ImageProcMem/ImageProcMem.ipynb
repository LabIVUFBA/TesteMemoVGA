{
 "cells": [
  {
   "cell_type": "markdown",
   "id": "5a5fdd27-0b6e-4f55-bd61-65ab621b3fe1",
   "metadata": {},
   "source": [
    "# Pré-processamento de imagens"
   ]
  },
  {
   "cell_type": "markdown",
   "id": "7fa878d5-179a-4cd4-9e61-a5ea3c63fe62",
   "metadata": {},
   "source": [
    "No código abaixo, todas as imagens da pasta **Input** são lidas, recortadas e redimensionadas para a resolução definida pelas variáveis ```hsize``` e ```vsize```. Também é possível fazer conversão para escala de cinza mediante controle da variável ```grayscale```.\n",
    "\n",
    "O código gera um arquivo ```.txt``` para cada imagem processada. Estes arquivos de saída ficam disponíveis na pasta **Output**. Em cada arquivo ```.txt```, cada linha contém informação binária de um pixel, sendo a formatação a seguinte:\n",
    "\n",
    "```00000000RRRRRRRRGGGGGGGGBBBBBBBB```"
   ]
  },
  {
   "cell_type": "code",
   "execution_count": 7,
   "id": "446ac818-a313-40e2-8814-4c2de121f935",
   "metadata": {},
   "outputs": [
    {
     "name": "stdout",
     "output_type": "stream",
     "text": [
      "0qQnv2v\n",
      "15271\n",
      "51240\n",
      "robert delaunay circles\n"
     ]
    }
   ],
   "source": [
    "import os\n",
    "from PIL import Image, ImageOps\n",
    "\n",
    "hsize = 320\n",
    "vsize = 240\n",
    "grayscale = False\n",
    "bitdepth16 = True\n",
    "\n",
    "def rgb2hex(r, g, b):\n",
    "    return ' {:05b}{:06b}{:05b}'.format(r, g, b)\n",
    "\n",
    "for file in os.scandir(\"Input\"):\n",
    "    basename = os.path.basename(file)\n",
    "    filename = os.path.splitext(basename)[0]\n",
    "    fileout = \"Output/\" + filename + \".bmp\"\n",
    "    txtout = \"Output/\" + filename + \".mem\"\n",
    "    \n",
    "    img = Image.open(file.path)\n",
    "    \n",
    "    procimg = ImageOps.fit(img, (hsize, vsize), centering=(0.5, 0.5))\n",
    "    \n",
    "    img.close()\n",
    "\n",
    "    procimg = procimg.convert('RGB')\n",
    "        \n",
    "    procimg.save(fileout)\n",
    "    \n",
    "    pixels = procimg.load()\n",
    "\n",
    "    procimg.close()\n",
    "    \n",
    "    arquivo = open(txtout, 'w')\n",
    "\n",
    "    header = \"// memory data file (do not edit the following line - required for mem load use)\"\n",
    "    header = header + \"\\n// instance=/TestePxBf_tb/teste/external_memory_bfm_0/mem\"\n",
    "    header = header + \"\\n// format=bin addressradix=h dataradix=b version=1.0 wordsperline=4\\n\"\n",
    "\n",
    "    arquivo.write(header)\n",
    "\n",
    "    for i in range(524288):\n",
    "        if(i == 0):\n",
    "            print(filename)\n",
    "            output = \"@0\"\n",
    "        elif(i % 4 == 0):\n",
    "            arquivo.write(output)\n",
    "            number = str(hex(i))\n",
    "            output = \"\\n@\" + number[2:]\n",
    "\n",
    "        if(i < hsize * vsize):\n",
    "            r, g, b = pixels[i % hsize, int(i/hsize)]\n",
    "            r = r >> 3\n",
    "            g = g >> 2\n",
    "            b = b >> 3\n",
    "            output = output + str(rgb2hex(r, g, b))\n",
    "        else:\n",
    "            output = output + str(rgb2hex(0, 0, 0))\n",
    "\n",
    "\n",
    "    arquivo.close()"
   ]
  }
 ],
 "metadata": {
  "interpreter": {
   "hash": "427b8541cfc07e6fbe7ab4a5298567b1b3022ff2b70fdb07d029f33f0434686a"
  },
  "kernelspec": {
   "display_name": "Python 3.8.8 ('base')",
   "language": "python",
   "name": "python3"
  },
  "language_info": {
   "codemirror_mode": {
    "name": "ipython",
    "version": 3
   },
   "file_extension": ".py",
   "mimetype": "text/x-python",
   "name": "python",
   "nbconvert_exporter": "python",
   "pygments_lexer": "ipython3",
   "version": "3.8.8"
  }
 },
 "nbformat": 4,
 "nbformat_minor": 5
}
