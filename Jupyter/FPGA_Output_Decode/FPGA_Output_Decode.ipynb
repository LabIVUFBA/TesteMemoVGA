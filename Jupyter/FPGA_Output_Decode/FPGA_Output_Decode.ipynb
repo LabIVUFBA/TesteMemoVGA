{
 "cells": [
  {
   "cell_type": "markdown",
   "id": "bf5f93c8",
   "metadata": {},
   "source": [
    "# Decodificação de binário para imagem"
   ]
  },
  {
   "cell_type": "markdown",
   "id": "6801b869",
   "metadata": {},
   "source": [
    "No código abaixo, todos os arquivos da pasta **Input** são lidos e convertidos para imagens em formato ```.bmp```, as quais são salvas na pasta **Output**."
   ]
  },
  {
   "cell_type": "code",
   "execution_count": null,
   "id": "585a63e9",
   "metadata": {},
   "outputs": [],
   "source": [
    "from PIL import Image\n",
    "import numpy as np\n",
    "\n",
    "hsize = 640\n",
    "vsize = 480\n",
    "\n",
    "npdata = np.empty(1)\n",
    "for file in os.scandir(\"Input\"):\n",
    "    basename = os.path.basename(file)\n",
    "    filename = os.path.splitext(basename)[0]\n",
    "    fileout = \"Output/\" + filename + \".bmp\"\n",
    "\n",
    "    fileread = open(file, 'r')\n",
    "\n",
    "    imgdata = []\n",
    "    for a in range(0, vsize):\n",
    "        linedata = []\n",
    "        for b in range(0, hsize):\n",
    "            line = fileread.readline()\n",
    "            linedata.append([int(line[8:16], 2), int(line[16:24], 2), int(line[24:32], 2)])\n",
    "        imgdata.append(linedata)\n",
    "\n",
    "    imgdata = np.array(imgdata)\n",
    "    imgdata = Image.fromarray(imgdata.astype('uint8'))\n",
    "    imgdata.save(fileout)"
   ]
  }
 ],
 "metadata": {
  "interpreter": {
   "hash": "427b8541cfc07e6fbe7ab4a5298567b1b3022ff2b70fdb07d029f33f0434686a"
  },
  "kernelspec": {
   "display_name": "Python 3.8.8 ('base')",
   "language": "python",
   "name": "python3"
  },
  "language_info": {
   "codemirror_mode": {
    "name": "ipython",
    "version": 3
   },
   "file_extension": ".py",
   "mimetype": "text/x-python",
   "name": "python",
   "nbconvert_exporter": "python",
   "pygments_lexer": "ipython3",
   "version": "3.8.8"
  }
 },
 "nbformat": 4,
 "nbformat_minor": 5
}
