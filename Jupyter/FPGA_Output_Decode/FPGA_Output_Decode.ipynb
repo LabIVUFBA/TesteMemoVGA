{
 "cells": [
  {
   "cell_type": "code",
   "execution_count": null,
   "id": "e5052350-043f-4528-9c14-9c7ffb1e39d2",
   "metadata": {},
   "outputs": [],
   "source": []
  }
 ],
 "metadata": {
  "kernelspec": {
   "display_name": "Python 3",
   "language": "python",
   "name": "python3"
  },
  "language_info": {
   "codemirror_mode": {
    "name": "ipython",
    "version": 3
   },
   "file_extension": ".py",
   "mimetype": "text/x-python",
   "name": "python",
   "nbconvert_exporter": "python",
   "pygments_lexer": "ipython3",
   "version": "3.8.8"
  }
 },
 "nbformat": 4,
 "nbformat_minor": 5
}
