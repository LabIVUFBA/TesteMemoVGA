{
 "cells": [
  {
   "cell_type": "markdown",
   "id": "5a5fdd27-0b6e-4f55-bd61-65ab621b3fe1",
   "metadata": {},
   "source": [
    "# Pré-processamento de imagens"
   ]
  },
  {
   "cell_type": "markdown",
   "id": "7fa878d5-179a-4cd4-9e61-a5ea3c63fe62",
   "metadata": {},
   "source": [
    "No código abaixo, todas as imagens da pasta **Input** são lidas, recortadas e redimensionadas para a resolução definida pelas variáveis ```hsize``` e ```vsize```. Também é possível fazer conversão para escala de cinza mediante controle da variável ```grayscale```. O código gera um arquivo ```.txt``` para cada imagem processada, e nesse arquivo txt cada linha contém informação hexadecimal RGB de um pixel. Os arquivos de saída ficam disponíveis na pasta **Output**."
   ]
  },
  {
   "cell_type": "code",
   "execution_count": 64,
   "id": "446ac818-a313-40e2-8814-4c2de121f935",
   "metadata": {},
   "outputs": [
    {
     "ename": "TypeError",
     "evalue": "cannot unpack non-iterable int object",
     "output_type": "error",
     "traceback": [
      "\u001b[1;31m---------------------------------------------------------------------------\u001b[0m",
      "\u001b[1;31mTypeError\u001b[0m                                 Traceback (most recent call last)",
      "\u001b[1;32m<ipython-input-64-accf8c57e9c0>\u001b[0m in \u001b[0;36m<module>\u001b[1;34m\u001b[0m\n\u001b[0;32m     33\u001b[0m     \u001b[1;32mfor\u001b[0m \u001b[0mx\u001b[0m \u001b[1;32min\u001b[0m \u001b[0mrange\u001b[0m\u001b[1;33m(\u001b[0m\u001b[0mhsize\u001b[0m\u001b[1;33m)\u001b[0m\u001b[1;33m:\u001b[0m\u001b[1;33m\u001b[0m\u001b[1;33m\u001b[0m\u001b[0m\n\u001b[0;32m     34\u001b[0m         \u001b[1;32mfor\u001b[0m \u001b[0my\u001b[0m \u001b[1;32min\u001b[0m \u001b[0mrange\u001b[0m\u001b[1;33m(\u001b[0m\u001b[0mvsize\u001b[0m\u001b[1;33m)\u001b[0m\u001b[1;33m:\u001b[0m\u001b[1;33m\u001b[0m\u001b[1;33m\u001b[0m\u001b[0m\n\u001b[1;32m---> 35\u001b[1;33m             \u001b[0mr\u001b[0m\u001b[1;33m,\u001b[0m \u001b[0mg\u001b[0m\u001b[1;33m,\u001b[0m \u001b[0mb\u001b[0m \u001b[1;33m=\u001b[0m \u001b[0mpixels\u001b[0m\u001b[1;33m[\u001b[0m\u001b[0mx\u001b[0m\u001b[1;33m,\u001b[0m \u001b[0my\u001b[0m\u001b[1;33m]\u001b[0m\u001b[1;33m\u001b[0m\u001b[1;33m\u001b[0m\u001b[0m\n\u001b[0m\u001b[0;32m     36\u001b[0m             \u001b[0marquivo\u001b[0m\u001b[1;33m.\u001b[0m\u001b[0mwrite\u001b[0m\u001b[1;33m(\u001b[0m\u001b[0mrgb2hex\u001b[0m\u001b[1;33m(\u001b[0m\u001b[0mr\u001b[0m\u001b[1;33m,\u001b[0m \u001b[0mg\u001b[0m\u001b[1;33m,\u001b[0m \u001b[0mb\u001b[0m\u001b[1;33m)\u001b[0m\u001b[1;33m)\u001b[0m\u001b[1;33m\u001b[0m\u001b[1;33m\u001b[0m\u001b[0m\n\u001b[0;32m     37\u001b[0m \u001b[1;33m\u001b[0m\u001b[0m\n",
      "\u001b[1;31mTypeError\u001b[0m: cannot unpack non-iterable int object"
     ]
    }
   ],
   "source": [
    "import os\n",
    "from PIL import Image, ImageOps\n",
    "\n",
    "hsize = 640\n",
    "vsize = 480\n",
    "grayscale = False\n",
    "\n",
    "def rgb2hex(r, g, b):\n",
    "    return '{:08b}\\n{:08b}\\n{:08b}\\n'.format(r, g, b)\n",
    "\n",
    "for file in os.scandir(\"Input\"):\n",
    "    basename = os.path.basename(file)\n",
    "    filename = os.path.splitext(basename)[0]\n",
    "    fileout = \"Output/\" + filename + \".bmp\"\n",
    "    txtout = \"Output/\" + filename + \".txt\"\n",
    "    \n",
    "    img = Image.open(file.path)\n",
    "    \n",
    "    procimg = ImageOps.fit(img, (hsize, vsize), centering=(0.5, 0.5))\n",
    "    \n",
    "    img.close()\n",
    "    \n",
    "    if(grayscale):\n",
    "        procimg = ImageOps.grayscale(procimg)\n",
    "        \n",
    "    procimg.save(fileout)\n",
    "    \n",
    "    pixels = procimg.convert('RGB').load()\n",
    "    procimg.close()\n",
    "    \n",
    "    arquivo = open(txtout, 'w')\n",
    "\n",
    "    for x in range(hsize):\n",
    "        for y in range(vsize):\n",
    "            r, g, b = pixels[x, y]\n",
    "            arquivo.write(rgb2hex(r, g, b))\n",
    "    \n",
    "    arquivo.close()\n",
    "    \n",
    "    \n",
    "    # procimg.show()"
   ]
  },
  {
   "cell_type": "code",
   "execution_count": null,
   "id": "1c623276-9215-43bf-8420-41b824244733",
   "metadata": {},
   "outputs": [],
   "source": []
  }
 ],
 "metadata": {
  "kernelspec": {
   "display_name": "Python 3",
   "language": "python",
   "name": "python3"
  },
  "language_info": {
   "codemirror_mode": {
    "name": "ipython",
    "version": 3
   },
   "file_extension": ".py",
   "mimetype": "text/x-python",
   "name": "python",
   "nbconvert_exporter": "python",
   "pygments_lexer": "ipython3",
   "version": "3.8.8"
  }
 },
 "nbformat": 4,
 "nbformat_minor": 5
}
